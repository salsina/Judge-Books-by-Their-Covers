{
 "cells": [
  {
   "cell_type": "code",
   "execution_count": 1,
   "metadata": {
    "execution": {
     "iopub.execute_input": "2022-07-27T10:34:30.695184Z",
     "iopub.status.busy": "2022-07-27T10:34:30.694828Z",
     "iopub.status.idle": "2022-07-27T10:34:40.446757Z",
     "shell.execute_reply": "2022-07-27T10:34:40.446022Z",
     "shell.execute_reply.started": "2022-07-27T10:34:30.695098Z"
    }
   },
   "outputs": [],
   "source": [
    "import pathlib\n",
    "import tensorflow as tf\n",
    "import matplotlib.pyplot as plt\n",
    "import numpy as np\n",
    "import PIL\n",
    "from tensorflow.keras import layers\n",
    "from tensorflow.keras.layers import Flatten\n",
    "from keras.layers.core import Dense\n",
    "from tensorflow.keras.models import Sequential\n",
    "from tensorflow.keras.optimizers import Adam\n",
    "\n",
    "dataset_url = \"../input/images-in-folder/images_in_folders\"\n",
    "\n",
    "\n",
    "# data_dir = tf.keras.utils.get_file('flower_photos', origin=dataset_url, untar=True)\n",
    "data_dir = \"../input/images-in-folder/images_in_folders\"\n",
    "data_dir = \"../input/images-in-folders-top10/images_in_folders - Copy\"\n",
    "# data_dir = \"../input/animals/animals\"\n",
    "data_dir = pathlib.Path(data_dir)\n",
    "\n",
    "img_height,img_width=224,224\n",
    "batch_size=32\n",
    "train_ds = tf.keras.preprocessing.image_dataset_from_directory(\n",
    "  data_dir,\n",
    "  validation_split=0.2,\n",
    "  subset=\"training\",\n",
    "  seed=123,\n",
    "  image_size=(img_height, img_width),\n",
    "  batch_size=batch_size)\n",
    "\n",
    "val_ds = tf.keras.preprocessing.image_dataset_from_directory(\n",
    "  data_dir,\n",
    "  validation_split=0.2,\n",
    "  subset=\"validation\",\n",
    "  seed=123,\n",
    "  image_size=(img_height, img_width),\n",
    "  batch_size=batch_size)\n"
   ]
  },
  {
   "cell_type": "code",
   "execution_count": null,
   "metadata": {
    "execution": {
     "iopub.execute_input": "2022-07-13T17:12:00.645536Z",
     "iopub.status.busy": "2022-07-13T17:12:00.644691Z",
     "iopub.status.idle": "2022-07-13T17:12:02.369573Z",
     "shell.execute_reply": "2022-07-13T17:12:02.368655Z",
     "shell.execute_reply.started": "2022-07-13T17:12:00.645491Z"
    }
   },
   "outputs": [],
   "source": [
    "plt.figure(figsize=(10, 10))\n",
    "for images, labels in train_ds.take(1):\n",
    "    for i in range(6):\n",
    "        ax = plt.subplot(3, 3, i + 1)\n",
    "        plt.imshow(images[i].numpy().astype(\"uint8\"))\n",
    "        plt.title(classnames[labels[i]])\n",
    "        plt.axis(\"off\")"
   ]
  },
  {
   "cell_type": "code",
   "execution_count": 2,
   "metadata": {
    "execution": {
     "iopub.execute_input": "2022-07-27T10:36:35.728719Z",
     "iopub.status.busy": "2022-07-27T10:36:35.728275Z",
     "iopub.status.idle": "2022-07-27T10:36:38.931357Z",
     "shell.execute_reply": "2022-07-27T10:36:38.930637Z",
     "shell.execute_reply.started": "2022-07-27T10:36:35.728657Z"
    }
   },
   "outputs": [],
   "source": [
    "resnet_model = Sequential()\n",
    "\n",
    "pretrained_model= tf.keras.applications.ResNet50(include_top=False,\n",
    "                   input_shape=(224,224,3),\n",
    "                   pooling='avg',\n",
    "                   weights='imagenet')\n",
    "for layer in pretrained_model.layers:\n",
    "        layer.trainable=False\n",
    "\n",
    "resnet_model.add(pretrained_model)"
   ]
  },
  {
   "cell_type": "code",
   "execution_count": 3,
   "metadata": {
    "execution": {
     "iopub.execute_input": "2022-07-27T10:36:43.348491Z",
     "iopub.status.busy": "2022-07-27T10:36:43.348230Z",
     "iopub.status.idle": "2022-07-27T10:36:43.372751Z",
     "shell.execute_reply": "2022-07-27T10:36:43.372099Z",
     "shell.execute_reply.started": "2022-07-27T10:36:43.348460Z"
    }
   },
   "outputs": [],
   "source": [
    "resnet_model.add(Flatten())\n",
    "resnet_model.add(Dense(512, activation='relu'))\n",
    "resnet_model.add(Dense(10, activation='softmax'))"
   ]
  },
  {
   "cell_type": "code",
   "execution_count": 4,
   "metadata": {
    "execution": {
     "iopub.execute_input": "2022-07-27T10:36:55.227570Z",
     "iopub.status.busy": "2022-07-27T10:36:55.227136Z",
     "iopub.status.idle": "2022-07-27T10:36:55.256821Z",
     "shell.execute_reply": "2022-07-27T10:36:55.256096Z",
     "shell.execute_reply.started": "2022-07-27T10:36:55.227532Z"
    }
   },
   "outputs": [],
   "source": [
    "# def recall(y_true, y_pred):\n",
    "#     \"\"\"Recall metric.\n",
    "\n",
    "#     Only computes a batch-wise average of recall.\n",
    "\n",
    "#     Computes the recall, a metric for multi-label classification of\n",
    "#     how many relevant items are selected.\n",
    "#     \"\"\"\n",
    "#     true_positives = K.sum(K.round(K.clip(y_true * y_pred, 0, 1)))\n",
    "#     possible_positives = K.sum(K.round(K.clip(y_true, 0, 1)))\n",
    "#     recall = true_positives / (possible_positives + K.epsilon())\n",
    "#     return recall\n",
    "\n",
    "\n",
    "resnet_model.summary()\n",
    "resnet_model.compile(optimizer=Adam(learning_rate=0.0001),loss='sparse_categorical_crossentropy',metrics=['accuracy'])"
   ]
  },
  {
   "cell_type": "code",
   "execution_count": 5,
   "metadata": {
    "execution": {
     "iopub.execute_input": "2022-07-27T10:37:12.483263Z",
     "iopub.status.busy": "2022-07-27T10:37:12.482592Z",
     "iopub.status.idle": "2022-07-27T10:37:12.492356Z",
     "shell.execute_reply": "2022-07-27T10:37:12.491709Z",
     "shell.execute_reply.started": "2022-07-27T10:37:12.483227Z"
    }
   },
   "outputs": [],
   "source": [
    "losses = []\n",
    "learning_rates = []\n",
    "class custom_callback(tf.keras.callbacks.Callback):\n",
    "#     def on_epoch_begin(self, epoch, logs=None):\n",
    "#         keys = list(logs.keys())\n",
    "#         print(\"Start epoch {} of training; got log keys: {}\".format(epoch, keys))\n",
    "\n",
    "    def on_epoch_end(self, epoch, logs=None):\n",
    "        keys = list(logs.keys())\n",
    "        print(\"End epoch {} of training; got log keys: {}\".format(epoch, keys))\n",
    "        if len(keys) > 2:\n",
    "            print(\"loss is: \", logs[keys[2]])\n",
    "            losses.append(round(logs[keys[2]], 2))\n",
    "        \n",
    "def scheduler(epoch, lr):\n",
    "    if epoch < 4:\n",
    "        print(\"latest losses are: \", losses)\n",
    "        learning_rates.append(lr)\n",
    "        return lr\n",
    "    elif (losses[-2] == losses[-1]) and (losses[-3] == losses[-2]):\n",
    "#             return lr * tf.math.exp(-0.1)\n",
    "        print(\"latest losses are: \", losses[-3:])\n",
    "        learning_rates.append(lr*0.9)\n",
    "        return lr * 0.9\n",
    "    learning_rates.append(lr)\n",
    "    return lr\n",
    "\n",
    "callback = tf.keras.callbacks.LearningRateScheduler(scheduler, verbose=1)"
   ]
  },
  {
   "cell_type": "code",
   "execution_count": 59,
   "metadata": {
    "execution": {
     "iopub.execute_input": "2022-07-26T13:44:29.364727Z",
     "iopub.status.busy": "2022-07-26T13:44:29.364158Z",
     "iopub.status.idle": "2022-07-26T13:44:55.882107Z",
     "shell.execute_reply": "2022-07-26T13:44:55.881150Z",
     "shell.execute_reply.started": "2022-07-26T13:44:29.364692Z"
    }
   },
   "outputs": [],
   "source": [
    "from tensorflow.python.keras.callbacks import Callback\n",
    "from sklearn.datasets import make_classification\n",
    "\n",
    "class Metrics(Callback):\n",
    "    def __init__(self, x, y):\n",
    "        self.x = x\n",
    "        self.y = y if (y.ndim == 1 or y.shape[1] == 1) else np.argmax(y, axis=1)\n",
    "        self.reports = []\n",
    "\n",
    "    def on_epoch_end(self, epoch, logs={}):\n",
    "        y_hat = np.asarray(self.model.predict(self.x))\n",
    "        y_hat = np.where(y_hat > 0.5, 1, 0) if (y_hat.ndim == 1 or y_hat.shape[1] == 1)  else np.argmax(y_hat, axis=1)\n",
    "        report = classification_report(self.y,y_hat,output_dict=True)\n",
    "        self.reports.append(report)\n",
    "        return\n",
    "   \n",
    "    # Utility method\n",
    "    def get(self, metrics, of_class):\n",
    "        return [report[str(of_class)][metrics] for report in self.reports]\n",
    "\n",
    "\n",
    "x, y = make_classification(n_features=6, n_redundant=0, n_informative=5,\n",
    "                           random_state=1, n_clusters_per_class=1, n_classes=29)\n",
    "# y = tf.keras.utils.to_categorical(y,29)\n",
    "# metrics_multiclass = Metrics(x,y)\n",
    "train_np = np.stack(list(train_ds))\n",
    "print(train_np)"
   ]
  },
  {
   "cell_type": "code",
   "execution_count": 6,
   "metadata": {
    "execution": {
     "iopub.execute_input": "2022-07-27T10:37:35.614176Z",
     "iopub.status.busy": "2022-07-27T10:37:35.613917Z",
     "iopub.status.idle": "2022-07-27T11:06:35.396577Z",
     "shell.execute_reply": "2022-07-27T11:06:35.395827Z",
     "shell.execute_reply.started": "2022-07-27T10:37:35.614148Z"
    }
   },
   "outputs": [],
   "source": [
    "history = resnet_model.fit(train_ds, validation_data=val_ds, epochs=100, callbacks=[callback, custom_callback()])"
   ]
  },
  {
   "cell_type": "code",
   "execution_count": null,
   "metadata": {},
   "outputs": [],
   "source": []
  },
  {
   "cell_type": "code",
   "execution_count": 7,
   "metadata": {
    "execution": {
     "iopub.execute_input": "2022-07-27T11:06:35.398999Z",
     "iopub.status.busy": "2022-07-27T11:06:35.398740Z",
     "iopub.status.idle": "2022-07-27T11:06:35.617522Z",
     "shell.execute_reply": "2022-07-27T11:06:35.616829Z",
     "shell.execute_reply.started": "2022-07-27T11:06:35.398965Z"
    }
   },
   "outputs": [],
   "source": [
    "fig1 = plt.gcf()\n",
    "plt.plot(history.history['accuracy'])\n",
    "plt.plot(history.history['val_accuracy'])\n",
    "\n",
    "plt.axis(ymin=0,ymax=0.5)\n",
    "\n",
    "plt.grid()\n",
    "plt.title('Model Accuracy')\n",
    "plt.ylabel('Accuracy')\n",
    "plt.xlabel('Epochs')\n",
    "plt.legend(['train_accuracy', 'val_accuracy'])\n",
    "\n",
    "plt.show()"
   ]
  },
  {
   "cell_type": "code",
   "execution_count": 10,
   "metadata": {
    "execution": {
     "iopub.execute_input": "2022-07-27T11:06:35.977760Z",
     "iopub.status.busy": "2022-07-27T11:06:35.977426Z",
     "iopub.status.idle": "2022-07-27T11:06:36.171112Z",
     "shell.execute_reply": "2022-07-27T11:06:36.170439Z",
     "shell.execute_reply.started": "2022-07-27T11:06:35.977724Z"
    }
   },
   "outputs": [],
   "source": [
    "fig1 = plt.gcf()\n",
    "plt.plot(history.history['accuracy'])\n",
    "plt.plot(history.history['val_accuracy'])\n",
    "\n",
    "plt.grid()\n",
    "plt.title('Model Accuracy')\n",
    "plt.ylabel('Accuracy')\n",
    "plt.xlabel('Epochs')\n",
    "plt.legend(['train_accuracy', 'val_accuracy'])\n",
    "\n",
    "plt.show()"
   ]
  },
  {
   "cell_type": "code",
   "execution_count": 8,
   "metadata": {
    "execution": {
     "iopub.execute_input": "2022-07-27T11:06:35.619257Z",
     "iopub.status.busy": "2022-07-27T11:06:35.618715Z",
     "iopub.status.idle": "2022-07-27T11:06:35.805630Z",
     "shell.execute_reply": "2022-07-27T11:06:35.804953Z",
     "shell.execute_reply.started": "2022-07-27T11:06:35.619220Z"
    }
   },
   "outputs": [],
   "source": [
    "fig1 = plt.gcf()\n",
    "\n",
    "plt.plot(history.history['loss'])\n",
    "plt.plot(history.history['val_loss'])\n",
    "\n",
    "plt.axis(ymin=0,ymax=5)\n",
    "\n",
    "plt.grid()\n",
    "plt.title('Model Loss')\n",
    "plt.ylabel('Loss')\n",
    "plt.xlabel('Epochs')\n",
    "\n",
    "plt.legend(['train_loss', 'val_loss'])\n",
    "\n",
    "plt.show()"
   ]
  },
  {
   "cell_type": "code",
   "execution_count": 9,
   "metadata": {
    "execution": {
     "iopub.execute_input": "2022-07-27T11:06:35.807635Z",
     "iopub.status.busy": "2022-07-27T11:06:35.807304Z",
     "iopub.status.idle": "2022-07-27T11:06:35.976302Z",
     "shell.execute_reply": "2022-07-27T11:06:35.975537Z",
     "shell.execute_reply.started": "2022-07-27T11:06:35.807598Z"
    }
   },
   "outputs": [],
   "source": [
    "fig1 = plt.gcf()\n",
    "\n",
    "plt.plot(learning_rates)\n",
    "\n",
    "# plt.axis(ymin=0,ymax=0.01)\n",
    "\n",
    "plt.grid()\n",
    "plt.title('Model Learning Rate')\n",
    "plt.ylabel('lr')\n",
    "plt.xlabel('Epochs')\n",
    "\n",
    "\n",
    "plt.show()"
   ]
  },
  {
   "cell_type": "code",
   "execution_count": null,
   "metadata": {
    "execution": {
     "iopub.execute_input": "2022-07-13T18:16:24.645801Z",
     "iopub.status.busy": "2022-07-13T18:16:24.645506Z",
     "iopub.status.idle": "2022-07-13T18:18:29.428579Z",
     "shell.execute_reply": "2022-07-13T18:18:29.427753Z",
     "shell.execute_reply.started": "2022-07-13T18:16:24.645767Z"
    }
   },
   "outputs": [],
   "source": [
    "from keras import backend as K\n",
    "\n",
    "def recall_m(y_true, y_pred):\n",
    "    true_positives = K.sum(K.round(K.clip(y_true * y_pred, 0, 1)))\n",
    "    possible_positives = K.sum(K.round(K.clip(y_true, 0, 1)))\n",
    "    recall = true_positives / (possible_positives + K.epsilon())\n",
    "    return recall\n",
    "\n",
    "def precision_m(y_true, y_pred):\n",
    "    true_positives = K.sum(K.round(K.clip(y_true * y_pred, 0, 1)))\n",
    "    predicted_positives = K.sum(K.round(K.clip(y_pred, 0, 1)))\n",
    "    precision = true_positives / (predicted_positives + K.epsilon())\n",
    "    return precision\n",
    "\n",
    "def f1_m(y_true, y_pred):\n",
    "    precision = precision_m(y_true, y_pred)\n",
    "    recall = recall_m(y_true, y_pred)\n",
    "    return 2*((precision*recall)/(precision+recall+K.epsilon()))\n",
    "\n",
    "# evaluate the model\n",
    "score = resnet_model.evaluate(val_ds)"
   ]
  },
  {
   "cell_type": "code",
   "execution_count": null,
   "metadata": {
    "execution": {
     "iopub.execute_input": "2022-07-13T18:18:33.502541Z",
     "iopub.status.busy": "2022-07-13T18:18:33.501790Z",
     "iopub.status.idle": "2022-07-13T18:18:33.507705Z",
     "shell.execute_reply": "2022-07-13T18:18:33.506938Z",
     "shell.execute_reply.started": "2022-07-13T18:18:33.502488Z"
    }
   },
   "outputs": [],
   "source": [
    "score"
   ]
  },
  {
   "cell_type": "code",
   "execution_count": null,
   "metadata": {},
   "outputs": [],
   "source": []
  },
  {
   "cell_type": "code",
   "execution_count": null,
   "metadata": {},
   "outputs": [],
   "source": []
  },
  {
   "cell_type": "code",
   "execution_count": null,
   "metadata": {},
   "outputs": [],
   "source": []
  },
  {
   "cell_type": "code",
   "execution_count": null,
   "metadata": {},
   "outputs": [],
   "source": []
  },
  {
   "cell_type": "code",
   "execution_count": null,
   "metadata": {},
   "outputs": [],
   "source": []
  },
  {
   "cell_type": "code",
   "execution_count": null,
   "metadata": {},
   "outputs": [],
   "source": []
  },
  {
   "cell_type": "code",
   "execution_count": null,
   "metadata": {
    "_cell_guid": "b1076dfc-b9ad-4769-8c92-a6c4dae69d19",
    "_uuid": "8f2839f25d086af736a60e9eeb907d3b93b6e0e5",
    "execution": {
     "iopub.execute_input": "2022-06-18T11:43:29.473156Z",
     "iopub.status.busy": "2022-06-18T11:43:29.472267Z",
     "iopub.status.idle": "2022-06-18T11:43:29.801322Z",
     "shell.execute_reply": "2022-06-18T11:43:29.800526Z",
     "shell.execute_reply.started": "2022-06-18T11:43:29.473099Z"
    }
   },
   "outputs": [],
   "source": [
    "import pandas as pd\n",
    "\n",
    "Books = pd.read_csv('../input/allbooks/allBooks.csv', encoding='cp1252')\n",
    "Books"
   ]
  },
  {
   "cell_type": "code",
   "execution_count": null,
   "metadata": {
    "execution": {
     "iopub.execute_input": "2022-06-18T11:43:34.317035Z",
     "iopub.status.busy": "2022-06-18T11:43:34.316729Z",
     "iopub.status.idle": "2022-06-18T11:43:34.679506Z",
     "shell.execute_reply": "2022-06-18T11:43:34.678786Z",
     "shell.execute_reply.started": "2022-06-18T11:43:34.316996Z"
    }
   },
   "outputs": [],
   "source": [
    "import matplotlib.pyplot as plt\n",
    "def show_plot(feature):\n",
    "    fig = plt.figure()\n",
    "    ax = fig.add_axes([0,0,1,1])\n",
    "    genre_counts = Books[feature].value_counts()\n",
    "    ax.bar(genre_counts.index,genre_counts)\n",
    "    plt.xticks(rotation=-90)\n",
    "    plt.show()\n",
    "show_plot('Genre')"
   ]
  },
  {
   "cell_type": "code",
   "execution_count": null,
   "metadata": {
    "execution": {
     "iopub.execute_input": "2022-06-18T11:43:53.892897Z",
     "iopub.status.busy": "2022-06-18T11:43:53.892548Z",
     "iopub.status.idle": "2022-06-18T11:43:54.221387Z",
     "shell.execute_reply": "2022-06-18T11:43:54.220549Z",
     "shell.execute_reply.started": "2022-06-18T11:43:53.892851Z"
    }
   },
   "outputs": [],
   "source": [
    "show_plot('PublishYear')"
   ]
  },
  {
   "cell_type": "code",
   "execution_count": null,
   "metadata": {
    "execution": {
     "iopub.execute_input": "2022-06-18T11:44:00.001084Z",
     "iopub.status.busy": "2022-06-18T11:44:00.000804Z",
     "iopub.status.idle": "2022-06-18T11:44:00.354024Z",
     "shell.execute_reply": "2022-06-18T11:44:00.353222Z",
     "shell.execute_reply.started": "2022-06-18T11:44:00.001054Z"
    }
   },
   "outputs": [],
   "source": [
    "show_plot('Rate')"
   ]
  },
  {
   "cell_type": "code",
   "execution_count": null,
   "metadata": {
    "execution": {
     "iopub.execute_input": "2022-06-18T11:44:14.735906Z",
     "iopub.status.busy": "2022-06-18T11:44:14.735593Z",
     "iopub.status.idle": "2022-06-18T11:44:15.158679Z",
     "shell.execute_reply": "2022-06-18T11:44:15.157826Z",
     "shell.execute_reply.started": "2022-06-18T11:44:14.73586Z"
    }
   },
   "outputs": [],
   "source": [
    "import glob\n",
    "from keras.preprocessing.image import image\n",
    "image_list = {'BookId':[], 'image':[]}\n",
    "\n",
    "for filename in glob.glob('../input/imagez/images/*.jpg'):\n",
    "    image_list['BookId'].append(int(filename.split('/')[4].split('.')[0]))\n",
    "    image_list['image'].append(filename)\n",
    "\n",
    "images_df = pd.DataFrame(image_list)\n",
    "images_df"
   ]
  },
  {
   "cell_type": "code",
   "execution_count": null,
   "metadata": {
    "execution": {
     "iopub.execute_input": "2022-06-02T12:58:04.759188Z",
     "iopub.status.busy": "2022-06-02T12:58:04.758861Z",
     "iopub.status.idle": "2022-06-02T12:58:08.571814Z",
     "shell.execute_reply": "2022-06-02T12:58:08.570774Z",
     "shell.execute_reply.started": "2022-06-02T12:58:04.759149Z"
    }
   },
   "outputs": [],
   "source": [
    "import os\n",
    "main_df = pd.merge(Books, images_df, how='inner', on = 'BookId')"
   ]
  },
  {
   "cell_type": "code",
   "execution_count": null,
   "metadata": {
    "execution": {
     "iopub.execute_input": "2022-06-02T11:12:59.571164Z",
     "iopub.status.busy": "2022-06-02T11:12:59.570842Z",
     "iopub.status.idle": "2022-06-02T11:12:59.681511Z",
     "shell.execute_reply": "2022-06-02T11:12:59.680294Z",
     "shell.execute_reply.started": "2022-06-02T11:12:59.571131Z"
    }
   },
   "outputs": [],
   "source": [
    "# history = resnet_model.fit(train_ds, validation_data=val_ds, epochs=10)\n",
    "\n",
    "check_point = tf.keras.callbacks.ModelCheckpoint(filepath=\"cifar10.h5\",\n",
    "                                          monitor=\"val_acc\",\n",
    "                                          mode=\"max\",\n",
    "                                          save_best_only=True,\n",
    "                                          )\n",
    "\n",
    "y_train_tensor = tf.convert_to_tensor(y_train.to_numpy())\n",
    "y_test_tensor = tf.convert_to_tensor(y_test.to_numpy())\n",
    "X_train_tensor = tf.convert_to_tensor(X_train.to_numpy())\n",
    "X_test_tensor = tf.convert_to_tensor(X_test.to_numpy())\n",
    "\n",
    "history = resnet_model.fit(X_train_tensor, y_train_tensor, batch_size=32, epochs=10, verbose=1,\n",
    "                    validation_data=(X_test_tensor, y_test_tensor),\n",
    "                    callbacks=[check_point])"
   ]
  },
  {
   "cell_type": "code",
   "execution_count": null,
   "metadata": {
    "execution": {
     "iopub.execute_input": "2022-05-30T16:54:00.309268Z",
     "iopub.status.busy": "2022-05-30T16:54:00.308995Z",
     "iopub.status.idle": "2022-05-30T16:54:07.368452Z",
     "shell.execute_reply": "2022-05-30T16:54:07.367681Z",
     "shell.execute_reply.started": "2022-05-30T16:54:00.309241Z"
    }
   },
   "outputs": [],
   "source": []
  },
  {
   "cell_type": "code",
   "execution_count": null,
   "metadata": {
    "execution": {
     "iopub.execute_input": "2022-05-30T16:54:33.934664Z",
     "iopub.status.busy": "2022-05-30T16:54:33.934188Z",
     "iopub.status.idle": "2022-05-30T16:54:33.944979Z",
     "shell.execute_reply": "2022-05-30T16:54:33.943929Z",
     "shell.execute_reply.started": "2022-05-30T16:54:33.934628Z"
    }
   },
   "outputs": [],
   "source": []
  },
  {
   "cell_type": "code",
   "execution_count": null,
   "metadata": {
    "execution": {
     "iopub.execute_input": "2022-05-30T17:03:27.718272Z",
     "iopub.status.busy": "2022-05-30T17:03:27.717983Z",
     "iopub.status.idle": "2022-05-30T17:03:27.769097Z",
     "shell.execute_reply": "2022-05-30T17:03:27.768138Z",
     "shell.execute_reply.started": "2022-05-30T17:03:27.71823Z"
    }
   },
   "outputs": [],
   "source": []
  },
  {
   "cell_type": "code",
   "execution_count": null,
   "metadata": {
    "execution": {
     "iopub.execute_input": "2022-05-30T18:01:11.356536Z",
     "iopub.status.busy": "2022-05-30T18:01:11.355781Z",
     "iopub.status.idle": "2022-05-30T18:01:11.367292Z",
     "shell.execute_reply": "2022-05-30T18:01:11.366288Z",
     "shell.execute_reply.started": "2022-05-30T18:01:11.356494Z"
    }
   },
   "outputs": [],
   "source": []
  },
  {
   "cell_type": "code",
   "execution_count": null,
   "metadata": {
    "execution": {
     "iopub.execute_input": "2022-05-30T17:59:46.006746Z",
     "iopub.status.busy": "2022-05-30T17:59:46.006413Z",
     "iopub.status.idle": "2022-05-30T17:59:46.062189Z",
     "shell.execute_reply": "2022-05-30T17:59:46.060972Z",
     "shell.execute_reply.started": "2022-05-30T17:59:46.006712Z"
    }
   },
   "outputs": [],
   "source": [
    "import numpy as np\n",
    "check_point = tf.keras.callbacks.ModelCheckpoint(filepath=\"cifar10.h5\",\n",
    "                                          monitor=\"val_acc\",\n",
    "                                          mode=\"max\",\n",
    "                                          save_best_only=True,\n",
    "                                          )\n",
    "\n",
    "model.compile(loss='categorical_crossentropy',\n",
    "              optimizer=tf.keras.optimizers.RMSprop(learning_rate=2e-5),\n",
    "              metrics=['accuracy'])\n",
    "y_train_tensor = tf.convert_to_tensor(y_train.to_numpy())\n",
    "y_test_tensor = tf.convert_to_tensor(y_test.to_numpy())\n",
    "X_train_tensor = tf.convert_to_tensor(X_train.to_numpy())\n",
    "X_test_tensor = tf.convert_to_tensor(X_test.to_numpy())\n",
    "history = model.fit(X_train_tensor, y_train_tensor, batch_size=32, epochs=10, verbose=1,\n",
    "                    validation_data=(X_test_tensor, y_test_tensor),\n",
    "                    callbacks=[check_point])\n",
    "# model.summary()"
   ]
  },
  {
   "cell_type": "code",
   "execution_count": null,
   "metadata": {},
   "outputs": [],
   "source": [
    "# preprocess_data = __import__('0-transfer').preprocess_data\n",
    "\n",
    "# fix issue with saving keras applications\n",
    "K.learning_phase = K.backend.learning_phase\n",
    "\n",
    "_, (X, Y) = K.datasets.cifar10.load_data()\n",
    "X_p, Y_p = preprocess_data(X, Y)\n",
    "model = K.models.load_model('cifar10.h5')\n",
    "model.evaluate(X_p, Y_p, batch_size=128, verbose=1)"
   ]
  },
  {
   "cell_type": "code",
   "execution_count": null,
   "metadata": {},
   "outputs": [],
   "source": [
    "import matplotlib.pyplot as plt\n",
    "\n",
    "acc = history.history['acc']\n",
    "val_acc = history.history['val_acc']\n",
    "loss = history.history['loss']\n",
    "val_loss = history.history['val_loss']\n",
    "\n",
    "epochs = range(len(acc))\n",
    "\n",
    "plt.plot(epochs, acc, 'b', label='Training acc')\n",
    "plt.plot(epochs, val_acc, 'bo', label='Validation acc')\n",
    "plt.title('Training and validation accuracy')\n",
    "plt.legend()\n",
    "\n",
    "plt.figure()\n",
    "\n",
    "plt.plot(epochs, loss, 'r', label='Training loss')\n",
    "plt.plot(epochs, val_loss, 'ro', label='Validation loss')\n",
    "plt.title('Training and validation loss')\n",
    "plt.legend()\n",
    "\n",
    "plt.show()\n"
   ]
  },
  {
   "cell_type": "code",
   "execution_count": null,
   "metadata": {
    "execution": {
     "iopub.execute_input": "2022-05-30T15:32:57.340899Z",
     "iopub.status.busy": "2022-05-30T15:32:57.340617Z",
     "iopub.status.idle": "2022-05-30T15:32:57.391713Z",
     "shell.execute_reply": "2022-05-30T15:32:57.390284Z",
     "shell.execute_reply.started": "2022-05-30T15:32:57.340851Z"
    }
   },
   "outputs": [],
   "source": [
    "# # from PIL import Image\n",
    "# from keras.preprocessing.image import image\n",
    "# image = Image.open(main_df['image'][0])\n",
    "# image.show()"
   ]
  }
 ],
 "metadata": {
  "kernelspec": {
   "display_name": "Python 3",
   "language": "python",
   "name": "python3"
  },
  "language_info": {
   "codemirror_mode": {
    "name": "ipython",
    "version": 3
   },
   "file_extension": ".py",
   "mimetype": "text/x-python",
   "name": "python",
   "nbconvert_exporter": "python",
   "pygments_lexer": "ipython3",
   "version": "3.7.4"
  }
 },
 "nbformat": 4,
 "nbformat_minor": 4
}
